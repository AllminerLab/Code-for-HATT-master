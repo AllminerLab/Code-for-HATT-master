{
 "cells": [
  {
   "cell_type": "code",
   "execution_count": 1,
   "id": "4a561be9-a906-409c-95b2-7ccd43f338a8",
   "metadata": {},
   "outputs": [
    {
     "name": "stdout",
     "output_type": "stream",
     "text": [
      "Looking in indexes: https://mirrors.aliyun.com/pypi/simple/\n",
      "Looking in links: https://download.pytorch.org/whl/cu111/torch_stable.html\n",
      "Requirement already satisfied: torch==1.10.0+cu111 in /usr/local/lib/python3.6/dist-packages (1.10.0+cu111)\n",
      "Requirement already satisfied: typing-extensions in /usr/local/lib/python3.6/dist-packages (from torch==1.10.0+cu111) (4.1.1)\n",
      "Requirement already satisfied: dataclasses in /usr/local/lib/python3.6/dist-packages (from torch==1.10.0+cu111) (0.8)\n",
      "\u001b[33mWARNING: Running pip as the 'root' user can result in broken permissions and conflicting behaviour with the system package manager. It is recommended to use a virtual environment instead: https://pip.pypa.io/warnings/venv\u001b[0m\n"
     ]
    }
   ],
   "source": [
    "!pip install torch==1.10.0+cu111 -f https://download.pytorch.org/whl/cu111/torch_stable.html"
   ]
  },
  {
   "cell_type": "code",
   "execution_count": 2,
   "id": "aa8fd1aa-5744-4826-90f1-633f775125cc",
   "metadata": {},
   "outputs": [
    {
     "name": "stdout",
     "output_type": "stream",
     "text": [
      "Looking in indexes: https://mirrors.aliyun.com/pypi/simple/\n",
      "Collecting tensorboardX\n",
      "  Downloading https://mirrors.aliyun.com/pypi/packages/02/bd/673947dde6b3a43f4ffc3abaf103947c4fb574ac8b7c32747f2421f1f7c9/tensorboardX-2.6.1-py2.py3-none-any.whl (101 kB)\n",
      "     |████████████████████████████████| 101 kB 2.9 MB/s           \n",
      "\u001b[?25hRequirement already satisfied: packaging in /usr/local/lib/python3.6/dist-packages (from tensorboardX) (21.3)\n",
      "  Downloading https://mirrors.aliyun.com/pypi/packages/60/9f/d532d37f10ac7af136d4c2ba71e1fe7af0f3cc0cc076dfc05826171e9737/tensorboardX-2.6-py2.py3-none-any.whl (114 kB)\n",
      "     |████████████████████████████████| 114 kB 3.8 MB/s            \n",
      "\u001b[?25hCollecting protobuf<4,>=3.8.0\n",
      "  Downloading https://mirrors.aliyun.com/pypi/packages/8f/8e/06fc0df62dd80a32739b51bb3256f1417349eb5c3899f6ccab3796937458/protobuf-3.19.6-cp36-cp36m-manylinux_2_17_x86_64.manylinux2014_x86_64.whl (1.1 MB)\n",
      "     |████████████████████████████████| 1.1 MB 10.9 MB/s            \n",
      "\u001b[?25hRequirement already satisfied: numpy in /usr/local/lib/python3.6/dist-packages (from tensorboardX) (1.19.5)\n",
      "Requirement already satisfied: pyparsing!=3.0.5,>=2.0.2 in /usr/local/lib/python3.6/dist-packages (from packaging->tensorboardX) (3.0.9)\n",
      "Installing collected packages: protobuf, tensorboardX\n",
      "Successfully installed protobuf-3.19.6 tensorboardX-2.6\n",
      "\u001b[33mWARNING: Running pip as the 'root' user can result in broken permissions and conflicting behaviour with the system package manager. It is recommended to use a virtual environment instead: https://pip.pypa.io/warnings/venv\u001b[0m\n"
     ]
    }
   ],
   "source": [
    "!pip install tensorboardX"
   ]
  },
  {
   "cell_type": "code",
   "execution_count": 3,
   "id": "1998fe52-ca40-4aa2-8a46-9bdd11d98e72",
   "metadata": {},
   "outputs": [
    {
     "name": "stdout",
     "output_type": "stream",
     "text": [
      "/bin/sh: 1: zip: not found\n"
     ]
    }
   ],
   "source": [
    "!zip -r g37.zip ./*"
   ]
  },
  {
   "cell_type": "code",
   "execution_count": 4,
   "id": "ef615770-bfe6-4c05-ade8-42685fc1abe9",
   "metadata": {},
   "outputs": [
    {
     "name": "stdout",
     "output_type": "stream",
     "text": [
      "Looking in indexes: https://mirrors.aliyun.com/pypi/simple/\n",
      "Requirement already satisfied: scikit-learn in /usr/local/lib/python3.6/dist-packages (0.24.2)\n",
      "Requirement already satisfied: threadpoolctl>=2.0.0 in /usr/local/lib/python3.6/dist-packages (from scikit-learn) (3.1.0)\n",
      "Requirement already satisfied: numpy>=1.13.3 in /usr/local/lib/python3.6/dist-packages (from scikit-learn) (1.19.5)\n",
      "Requirement already satisfied: joblib>=0.11 in /usr/local/lib/python3.6/dist-packages (from scikit-learn) (1.1.1)\n",
      "Requirement already satisfied: scipy>=0.19.1 in /usr/local/lib/python3.6/dist-packages (from scikit-learn) (1.5.4)\n",
      "\u001b[33mWARNING: Running pip as the 'root' user can result in broken permissions and conflicting behaviour with the system package manager. It is recommended to use a virtual environment instead: https://pip.pypa.io/warnings/venv\u001b[0m\n"
     ]
    }
   ],
   "source": [
    "!pip install scikit-learn"
   ]
  },
  {
   "cell_type": "code",
   "execution_count": 5,
   "id": "eb8ae365-ecdb-40f7-845c-a2f99fac0d5d",
   "metadata": {},
   "outputs": [
    {
     "name": "stdout",
     "output_type": "stream",
     "text": [
      "Looking in indexes: https://mirrors.aliyun.com/pypi/simple/\n",
      "Collecting dgl\n",
      "  Downloading https://mirrors.aliyun.com/pypi/packages/4c/d1/b0aff115bca39484fbecc213749dedc62c142b790dc93eb4e293903f18f8/dgl-1.1.0-cp36-cp36m-manylinux1_x86_64.whl (5.8 MB)\n",
      "     |████████████████████████████████| 5.8 MB 2.8 MB/s            \n",
      "\u001b[?25hRequirement already satisfied: scipy>=1.1.0 in /usr/local/lib/python3.6/dist-packages (from dgl) (1.5.4)\n",
      "Collecting psutil>=5.8.0\n",
      "  Downloading https://mirrors.aliyun.com/pypi/packages/af/4d/389441079ecef400e2551a3933224885a7bde6b8a4810091d628cdd75afe/psutil-5.9.5-cp36-abi3-manylinux_2_12_x86_64.manylinux2010_x86_64.manylinux_2_17_x86_64.manylinux2014_x86_64.whl (282 kB)\n",
      "     |████████████████████████████████| 282 kB 96.4 MB/s            \n",
      "\u001b[?25hRequirement already satisfied: requests>=2.19.0 in /usr/local/lib/python3.6/dist-packages (from dgl) (2.27.1)\n",
      "Requirement already satisfied: numpy>=1.14.0 in /usr/local/lib/python3.6/dist-packages (from dgl) (1.19.5)\n",
      "Collecting networkx>=2.1\n",
      "  Downloading https://mirrors.aliyun.com/pypi/packages/f3/b7/c7f488101c0bb5e4178f3cde416004280fd40262433496830de8a8c21613/networkx-2.5.1-py3-none-any.whl (1.6 MB)\n",
      "     |████████████████████████████████| 1.6 MB 31.9 MB/s            \n",
      "\u001b[?25hCollecting tqdm\n",
      "  Downloading https://mirrors.aliyun.com/pypi/packages/47/bb/849011636c4da2e44f1253cd927cfb20ada4374d8b3a4e425416e84900cc/tqdm-4.64.1-py2.py3-none-any.whl (78 kB)\n",
      "     |████████████████████████████████| 78 kB 16.4 MB/s            \n",
      "\u001b[?25hCollecting decorator<5,>=4.3\n",
      "  Downloading https://mirrors.aliyun.com/pypi/packages/ed/1b/72a1821152d07cf1d8b6fce298aeb06a7eb90f4d6d41acec9861e7cc6df0/decorator-4.4.2-py2.py3-none-any.whl (9.2 kB)\n",
      "Requirement already satisfied: certifi>=2017.4.17 in /usr/local/lib/python3.6/dist-packages (from requests>=2.19.0->dgl) (2023.5.7)\n",
      "Requirement already satisfied: urllib3<1.27,>=1.21.1 in /usr/local/lib/python3.6/dist-packages (from requests>=2.19.0->dgl) (1.26.15)\n",
      "Requirement already satisfied: charset-normalizer~=2.0.0 in /usr/local/lib/python3.6/dist-packages (from requests>=2.19.0->dgl) (2.0.12)\n",
      "Requirement already satisfied: idna<4,>=2.5 in /usr/local/lib/python3.6/dist-packages (from requests>=2.19.0->dgl) (3.4)\n",
      "Collecting importlib-resources\n",
      "  Downloading https://mirrors.aliyun.com/pypi/packages/24/1b/33e489669a94da3ef4562938cd306e8fa915e13939d7b8277cb5569cb405/importlib_resources-5.4.0-py3-none-any.whl (28 kB)\n",
      "Requirement already satisfied: zipp>=3.1.0 in /usr/local/lib/python3.6/dist-packages (from importlib-resources->tqdm->dgl) (3.6.0)\n",
      "Installing collected packages: importlib-resources, decorator, tqdm, psutil, networkx, dgl\n",
      "  Attempting uninstall: decorator\n",
      "    Found existing installation: decorator 5.1.1\n",
      "    Uninstalling decorator-5.1.1:\n",
      "      Successfully uninstalled decorator-5.1.1\n",
      "Successfully installed decorator-4.4.2 dgl-1.1.0 importlib-resources-5.4.0 networkx-2.5.1 psutil-5.9.5 tqdm-4.64.1\n",
      "\u001b[33mWARNING: Running pip as the 'root' user can result in broken permissions and conflicting behaviour with the system package manager. It is recommended to use a virtual environment instead: https://pip.pypa.io/warnings/venv\u001b[0m\n"
     ]
    }
   ],
   "source": [
    "!pip install dgl"
   ]
  },
  {
   "cell_type": "code",
   "execution_count": 6,
   "id": "d7fcc9b7-5f4a-4cbe-966a-3ca946d1534b",
   "metadata": {},
   "outputs": [],
   "source": [
    "!cd whl"
   ]
  },
  {
   "cell_type": "code",
   "execution_count": 7,
   "id": "31eac35a-fa49-44c3-83ab-9d8b53e5843c",
   "metadata": {},
   "outputs": [
    {
     "name": "stdout",
     "output_type": "stream",
     "text": [
      "derby.log  environment.ipynb  HATT  HHGNN  noah_tf_util.py  README.md  whl\n"
     ]
    }
   ],
   "source": [
    "!ls"
   ]
  },
  {
   "cell_type": "code",
   "execution_count": 8,
   "id": "2d70909c-8560-4086-b2d6-130773fef02c",
   "metadata": {},
   "outputs": [
    {
     "name": "stdout",
     "output_type": "stream",
     "text": [
      "Looking in indexes: https://mirrors.aliyun.com/pypi/simple/\n",
      "Processing ./whl/torch_cluster-1.5.9-cp36-cp36m-linux_x86_64.whl\n",
      "Installing collected packages: torch-cluster\n",
      "Successfully installed torch-cluster-1.5.9\n",
      "\u001b[33mWARNING: Running pip as the 'root' user can result in broken permissions and conflicting behaviour with the system package manager. It is recommended to use a virtual environment instead: https://pip.pypa.io/warnings/venv\u001b[0m\n"
     ]
    }
   ],
   "source": [
    "!pip install ./whl/torch_cluster-1.5.9-cp36-cp36m-linux_x86_64.whl"
   ]
  },
  {
   "cell_type": "code",
   "execution_count": 9,
   "id": "43a44962-3118-4a81-8b16-6082ec6f842a",
   "metadata": {},
   "outputs": [
    {
     "name": "stdout",
     "output_type": "stream",
     "text": [
      "Looking in indexes: https://mirrors.aliyun.com/pypi/simple/\n",
      "Processing ./whl/torch_scatter-2.0.9-cp36-cp36m-linux_x86_64.whl\n",
      "Installing collected packages: torch-scatter\n",
      "Successfully installed torch-scatter-2.0.9\n",
      "\u001b[33mWARNING: Running pip as the 'root' user can result in broken permissions and conflicting behaviour with the system package manager. It is recommended to use a virtual environment instead: https://pip.pypa.io/warnings/venv\u001b[0m\n"
     ]
    }
   ],
   "source": [
    "!pip install ./whl/torch_scatter-2.0.9-cp36-cp36m-linux_x86_64.whl"
   ]
  },
  {
   "cell_type": "code",
   "execution_count": 10,
   "id": "14ae75f0-07ff-492d-a314-ae662ab70ef0",
   "metadata": {},
   "outputs": [
    {
     "name": "stdout",
     "output_type": "stream",
     "text": [
      "Looking in indexes: https://mirrors.aliyun.com/pypi/simple/\n",
      "Processing ./whl/torch_sparse-0.6.12-cp36-cp36m-linux_x86_64.whl\n",
      "Requirement already satisfied: scipy in /usr/local/lib/python3.6/dist-packages (from torch-sparse==0.6.12) (1.5.4)\n",
      "Requirement already satisfied: numpy>=1.14.5 in /usr/local/lib/python3.6/dist-packages (from scipy->torch-sparse==0.6.12) (1.19.5)\n",
      "Installing collected packages: torch-sparse\n",
      "Successfully installed torch-sparse-0.6.12\n",
      "\u001b[33mWARNING: Running pip as the 'root' user can result in broken permissions and conflicting behaviour with the system package manager. It is recommended to use a virtual environment instead: https://pip.pypa.io/warnings/venv\u001b[0m\n"
     ]
    }
   ],
   "source": [
    "!pip install ./whl/torch_sparse-0.6.12-cp36-cp36m-linux_x86_64.whl"
   ]
  },
  {
   "cell_type": "code",
   "execution_count": 11,
   "id": "2238e5a9-5aff-4842-83ae-63ca87a44a1c",
   "metadata": {},
   "outputs": [
    {
     "name": "stdout",
     "output_type": "stream",
     "text": [
      "Looking in indexes: https://mirrors.aliyun.com/pypi/simple/\n",
      "Processing ./whl/torch_spline_conv-1.2.1-cp36-cp36m-linux_x86_64.whl\n",
      "Installing collected packages: torch-spline-conv\n",
      "Successfully installed torch-spline-conv-1.2.1\n",
      "\u001b[33mWARNING: Running pip as the 'root' user can result in broken permissions and conflicting behaviour with the system package manager. It is recommended to use a virtual environment instead: https://pip.pypa.io/warnings/venv\u001b[0m\n"
     ]
    }
   ],
   "source": [
    "!pip install ./whl/torch_spline_conv-1.2.1-cp36-cp36m-linux_x86_64.whl"
   ]
  },
  {
   "cell_type": "code",
   "execution_count": 12,
   "id": "68d082ae-4991-4f03-a938-e25bc8fd66a8",
   "metadata": {},
   "outputs": [
    {
     "name": "stdout",
     "output_type": "stream",
     "text": [
      "1.10.0+cu111\n",
      "11.1\n"
     ]
    }
   ],
   "source": [
    "import torch\n",
    "\n",
    "print(torch.__version__)\n",
    "print(torch.version.cuda)"
   ]
  },
  {
   "cell_type": "code",
   "execution_count": 13,
   "id": "994b009e-995f-4574-92df-8fd09f55e912",
   "metadata": {},
   "outputs": [],
   "source": [
    "import torch_sparse"
   ]
  },
  {
   "cell_type": "code",
   "execution_count": 14,
   "id": "a458e2c2-7909-4a0c-acf0-928da35143f9",
   "metadata": {},
   "outputs": [
    {
     "name": "stdout",
     "output_type": "stream",
     "text": [
      "0.6.12\n"
     ]
    }
   ],
   "source": [
    "print(torch_sparse.__version__)"
   ]
  },
  {
   "cell_type": "code",
   "execution_count": 15,
   "id": "79f8a9e2-2ce8-44b2-a728-52573df0b121",
   "metadata": {},
   "outputs": [
    {
     "name": "stdout",
     "output_type": "stream",
     "text": [
      "Looking in indexes: https://mirrors.aliyun.com/pypi/simple/\n",
      "Collecting torch_geometric\n",
      "  Downloading https://mirrors.aliyun.com/pypi/packages/c6/ae/4a35b0e116252411ae8d3729f238591df64773277dca3405f9317a032da3/torch_geometric-2.0.3.tar.gz (370 kB)\n",
      "     |████████████████████████████████| 370 kB 2.1 MB/s            \n",
      "\u001b[?25h  Preparing metadata (setup.py) ... \u001b[?25ldone\n",
      "\u001b[?25hRequirement already satisfied: numpy in /usr/local/lib/python3.6/dist-packages (from torch_geometric) (1.19.5)\n",
      "Requirement already satisfied: tqdm in /usr/local/lib/python3.6/dist-packages (from torch_geometric) (4.64.1)\n",
      "Requirement already satisfied: scipy in /usr/local/lib/python3.6/dist-packages (from torch_geometric) (1.5.4)\n",
      "Requirement already satisfied: networkx in /usr/local/lib/python3.6/dist-packages (from torch_geometric) (2.5.1)\n",
      "Requirement already satisfied: scikit-learn in /usr/local/lib/python3.6/dist-packages (from torch_geometric) (0.24.2)\n",
      "Requirement already satisfied: requests in /usr/local/lib/python3.6/dist-packages (from torch_geometric) (2.27.1)\n",
      "Requirement already satisfied: pandas in /usr/local/lib/python3.6/dist-packages (from torch_geometric) (1.1.5)\n",
      "Collecting rdflib\n",
      "  Downloading https://mirrors.aliyun.com/pypi/packages/d0/6b/6454aa1db753c0f8bc265a5bd5c10b5721a4bb24160fb4faf758cf6be8a1/rdflib-5.0.0-py3-none-any.whl (231 kB)\n",
      "     |████████████████████████████████| 231 kB 3.1 MB/s            \n",
      "\u001b[?25hCollecting googledrivedownloader\n",
      "  Downloading https://mirrors.aliyun.com/pypi/packages/3a/5c/485e8724383b482cc6c739f3359991b8a93fb9316637af0ac954729545c9/googledrivedownloader-0.4-py2.py3-none-any.whl (3.9 kB)\n",
      "Requirement already satisfied: jinja2 in /usr/local/lib/python3.6/dist-packages (from torch_geometric) (3.0.3)\n",
      "Requirement already satisfied: pyparsing in /usr/local/lib/python3.6/dist-packages (from torch_geometric) (3.0.9)\n",
      "Collecting yacs\n",
      "  Downloading https://mirrors.aliyun.com/pypi/packages/38/4f/fe9a4d472aa867878ce3bb7efb16654c5d63672b86dc0e6e953a67018433/yacs-0.1.8-py3-none-any.whl (14 kB)\n",
      "Collecting PyYAML\n",
      "  Downloading https://mirrors.aliyun.com/pypi/packages/b3/85/79b9e5b4e8d3c0ac657f4e8617713cca8408f6cdc65d2ee6554217cedff1/PyYAML-6.0-cp36-cp36m-manylinux_2_5_x86_64.manylinux1_x86_64.manylinux_2_12_x86_64.manylinux2010_x86_64.whl (603 kB)\n",
      "     |████████████████████████████████| 603 kB 4.8 MB/s            \n",
      "\u001b[?25hRequirement already satisfied: MarkupSafe>=2.0 in /usr/local/lib/python3.6/dist-packages (from jinja2->torch_geometric) (2.0.1)\n",
      "Requirement already satisfied: decorator<5,>=4.3 in /usr/local/lib/python3.6/dist-packages (from networkx->torch_geometric) (4.4.2)\n",
      "Requirement already satisfied: pytz>=2017.2 in /usr/local/lib/python3.6/dist-packages (from pandas->torch_geometric) (2023.3)\n",
      "Requirement already satisfied: python-dateutil>=2.7.3 in /usr/local/lib/python3.6/dist-packages (from pandas->torch_geometric) (2.8.2)\n",
      "Requirement already satisfied: six in /usr/lib/python3/dist-packages (from rdflib->torch_geometric) (1.11.0)\n",
      "Collecting isodate\n",
      "  Downloading https://mirrors.aliyun.com/pypi/packages/b6/85/7882d311924cbcfc70b1890780763e36ff0b140c7e51c110fc59a532f087/isodate-0.6.1-py2.py3-none-any.whl (41 kB)\n",
      "     |████████████████████████████████| 41 kB 3.2 MB/s             \n",
      "\u001b[?25hRequirement already satisfied: charset-normalizer~=2.0.0 in /usr/local/lib/python3.6/dist-packages (from requests->torch_geometric) (2.0.12)\n",
      "Requirement already satisfied: certifi>=2017.4.17 in /usr/local/lib/python3.6/dist-packages (from requests->torch_geometric) (2023.5.7)\n",
      "Requirement already satisfied: urllib3<1.27,>=1.21.1 in /usr/local/lib/python3.6/dist-packages (from requests->torch_geometric) (1.26.15)\n",
      "Requirement already satisfied: idna<4,>=2.5 in /usr/local/lib/python3.6/dist-packages (from requests->torch_geometric) (3.4)\n",
      "Requirement already satisfied: joblib>=0.11 in /usr/local/lib/python3.6/dist-packages (from scikit-learn->torch_geometric) (1.1.1)\n",
      "Requirement already satisfied: threadpoolctl>=2.0.0 in /usr/local/lib/python3.6/dist-packages (from scikit-learn->torch_geometric) (3.1.0)\n",
      "Requirement already satisfied: importlib-resources in /usr/local/lib/python3.6/dist-packages (from tqdm->torch_geometric) (5.4.0)\n",
      "Requirement already satisfied: zipp>=3.1.0 in /usr/local/lib/python3.6/dist-packages (from importlib-resources->tqdm->torch_geometric) (3.6.0)\n",
      "Building wheels for collected packages: torch-geometric\n",
      "  Building wheel for torch-geometric (setup.py) ... \u001b[?25ldone\n",
      "\u001b[?25h  Created wheel for torch-geometric: filename=torch_geometric-2.0.3-py3-none-any.whl size=594560 sha256=c48bf6358a1af8d8d7abb387c2372a151041ee25c43b6db311596f6d36fbd98e\n",
      "  Stored in directory: /root/.cache/pip/wheels/53/5c/4a/ff8aac041f8bafda6b141c639e9771ae38cbf3b14316c4b306\n",
      "Successfully built torch-geometric\n",
      "Installing collected packages: PyYAML, isodate, yacs, rdflib, googledrivedownloader, torch-geometric\n",
      "Successfully installed PyYAML-6.0 googledrivedownloader-0.4 isodate-0.6.1 rdflib-5.0.0 torch-geometric-2.0.3 yacs-0.1.8\n",
      "\u001b[33mWARNING: Running pip as the 'root' user can result in broken permissions and conflicting behaviour with the system package manager. It is recommended to use a virtual environment instead: https://pip.pypa.io/warnings/venv\u001b[0m\n"
     ]
    }
   ],
   "source": [
    "!pip install torch_geometric"
   ]
  },
  {
   "cell_type": "code",
   "execution_count": 16,
   "id": "726586ae-1c15-429a-8b99-8155380bd808",
   "metadata": {},
   "outputs": [
    {
     "name": "stdout",
     "output_type": "stream",
     "text": [
      "Looking in indexes: https://mirrors.aliyun.com/pypi/simple/\n",
      "Collecting path\n",
      "  Downloading https://mirrors.aliyun.com/pypi/packages/3a/33/cf93f8875e7b79f2bd5fe3c490952f4a53a8952967533e4f6af16c30455e/path-16.2.0-py3-none-any.whl (21 kB)\n",
      "Installing collected packages: path\n",
      "Successfully installed path-16.2.0\n",
      "\u001b[33mWARNING: Running pip as the 'root' user can result in broken permissions and conflicting behaviour with the system package manager. It is recommended to use a virtual environment instead: https://pip.pypa.io/warnings/venv\u001b[0m\n"
     ]
    }
   ],
   "source": [
    "!pip install path"
   ]
  },
  {
   "cell_type": "code",
   "execution_count": 17,
   "id": "d8a45a0b-68a4-49a5-b1aa-16d2562a8417",
   "metadata": {},
   "outputs": [
    {
     "name": "stdout",
     "output_type": "stream",
     "text": [
      "Looking in indexes: https://mirrors.aliyun.com/pypi/simple/\n",
      "Collecting torchinfo\n",
      "  Downloading https://mirrors.aliyun.com/pypi/packages/b3/bc/d43629e0b4d364d04bfbcbf55fbe1218aa09b2f944eae6a4d96045bf2d0f/torchinfo-1.5.4-py3-none-any.whl (19 kB)\n",
      "Installing collected packages: torchinfo\n",
      "Successfully installed torchinfo-1.5.4\n",
      "\u001b[33mWARNING: Running pip as the 'root' user can result in broken permissions and conflicting behaviour with the system package manager. It is recommended to use a virtual environment instead: https://pip.pypa.io/warnings/venv\u001b[0m\n"
     ]
    }
   ],
   "source": [
    "!pip install torchinfo"
   ]
  },
  {
   "cell_type": "code",
   "execution_count": 18,
   "id": "35514f56-c82d-4ba1-92eb-1fbc77a9e560",
   "metadata": {},
   "outputs": [
    {
     "name": "stdout",
     "output_type": "stream",
     "text": [
      "Reading package lists... Done\n",
      "Building dependency tree       \n",
      "Reading state information... Done\n",
      "The following NEW packages will be installed:\n",
      "  zip\n",
      "0 upgraded, 1 newly installed, 0 to remove and 28 not upgraded.\n",
      "Need to get 167 kB of archives.\n",
      "After this operation, 638 kB of additional disk space will be used.\n",
      "Get:1 http://mirrors.aliyun.com/ubuntu bionic/main amd64 zip amd64 3.0-11build1 [167 kB]\n",
      "Fetched 167 kB in 0s (1,221 kB/s)\n",
      "debconf: delaying package configuration, since apt-utils is not installed\n",
      "Selecting previously unselected package zip.\n",
      "(Reading database ... 19935 files and directories currently installed.)\n",
      "Preparing to unpack .../zip_3.0-11build1_amd64.deb ...\n",
      "Unpacking zip (3.0-11build1) ...\n",
      "Setting up zip (3.0-11build1) ...\n"
     ]
    }
   ],
   "source": [
    "!apt-get install zip"
   ]
  },
  {
   "cell_type": "code",
   "execution_count": 19,
   "id": "cfb7aa41-5962-48ad-8579-22e04ef1e7e1",
   "metadata": {},
   "outputs": [],
   "source": [
    "#!zip -r hatt.zip ./*"
   ]
  },
  {
   "cell_type": "code",
   "execution_count": 20,
   "id": "ad5142d0-0f2f-45e1-a858-d22fa56ca840",
   "metadata": {},
   "outputs": [
    {
     "name": "stdout",
     "output_type": "stream",
     "text": [
      "3.4M\t./whl/torch_sparse-0.6.12-cp36-cp36m-linux_x86_64.whl\n",
      "4.0K\t./whl/.ipynb_checkpoints\n",
      "7.6M\t./whl/torch_scatter-2.0.9-cp36-cp36m-linux_x86_64.whl\n",
      "732K\t./whl/torch_spline_conv-1.2.1-cp36-cp36m-linux_x86_64.whl\n",
      "2.3M\t./whl/torch_cluster-1.5.9-cp36-cp36m-linux_x86_64.whl\n",
      "14M\t./whl\n",
      "44K\t./HHGNN/未命名1.ipynb\n",
      "4.0K\t./HHGNN/.ipynb_checkpoints/LICENSE-checkpoint\n",
      "4.0K\t./HHGNN/.ipynb_checkpoints/config-checkpoint.py\n",
      "4.0K\t./HHGNN/.ipynb_checkpoints/未命名1-checkpoint.ipynb\n",
      "16K\t./HHGNN/.ipynb_checkpoints\n",
      "4.0K\t./HHGNN/__pycache__/utils.cpython-36.pyc\n",
      "8.0K\t./HHGNN/__pycache__/prepare.cpython-36.pyc\n",
      "4.0K\t./HHGNN/__pycache__/config.cpython-36.pyc\n",
      "8.0K\t./HHGNN/__pycache__/model.cpython-36.pyc\n",
      "28K\t./HHGNN/__pycache__\n",
      "4.0K\t./HHGNN/config.py\n",
      "4.0K\t./HHGNN/LICENSE\n",
      "364K\t./HHGNN/NYC/friend_list_index.pkl\n",
      "336K\t./HHGNN/NYC/trajectory_list_index.pkl\n",
      "3.8M\t./HHGNN/NYC/visit_list_edge_tensor.pkl\n",
      "4.5M\t./HHGNN/NYC\n",
      "4.6M\t./HHGNN\n",
      "4.0K\t./derby.log\n",
      "184K\t./HATT/GCN_average.ipynb\n",
      "132K\t./HATT/average.ipynb\n",
      "16K\t./HATT/para2.pdf\n",
      "12K\t./HATT/data.py\n",
      "4.0K\t./HATT/testdata/com_user_train_edge.pkl\n",
      "4.0K\t./HATT/testdata/user_attr_edge.pkl\n",
      "4.0K\t./HATT/testdata/.ipynb_checkpoints/a_d_u-checkpoint.txt\n",
      "4.0K\t./HATT/testdata/.ipynb_checkpoints/c_u_train-checkpoint.txt\n",
      "4.0K\t./HATT/testdata/.ipynb_checkpoints/u_a-checkpoint.txt\n",
      "4.0K\t./HATT/testdata/.ipynb_checkpoints/c_u_test-checkpoint.txt\n",
      "20K\t./HATT/testdata/.ipynb_checkpoints\n",
      "4.0K\t./HATT/testdata/a_d_u.txt\n",
      "4.0K\t./HATT/testdata/u_a.txt\n",
      "4.0K\t./HATT/testdata/c_u_train.txt\n",
      "4.0K\t./HATT/testdata/com_user_train.pkl\n",
      "4.0K\t./HATT/testdata/c_u_test.txt\n",
      "4.0K\t./HATT/testdata/attr_user_edge.pkl\n",
      "4.0K\t./HATT/testdata/com_user_test.pkl\n",
      "60K\t./HATT/testdata\n",
      "4.0K\t./HATT/lightgcn/utility/metrics.py\n",
      "0\t./HATT/lightgcn/utility/__init__.py\n",
      "4.0K\t./HATT/lightgcn/utility/decorate.py\n",
      "4.0K\t./HATT/lightgcn/utility/__pycache__/decorate.cpython-36.pyc\n",
      "4.0K\t./HATT/lightgcn/utility/__pycache__/__init__.cpython-36.pyc\n",
      "4.0K\t./HATT/lightgcn/utility/__pycache__/metrics.cpython-36.pyc\n",
      "16K\t./HATT/lightgcn/utility/__pycache__\n",
      "4.0K\t./HATT/lightgcn/utility/helper.py\n",
      "32K\t./HATT/lightgcn/utility\n",
      "68K\t./HATT/lightgcn/1101_1108/com_user_train.txt\n",
      "8.0K\t./HATT/lightgcn/1101_1108/com_user_test.txt\n",
      "1.7M\t./HATT/lightgcn/1101_1108/.ipynb_checkpoints/user_attr-checkpoint.txt\n",
      "68K\t./HATT/lightgcn/1101_1108/.ipynb_checkpoints/com_user_train-checkpoint.txt\n",
      "40K\t./HATT/lightgcn/1101_1108/.ipynb_checkpoints/c_u_train-checkpoint.txt\n",
      "8.0K\t./HATT/lightgcn/1101_1108/.ipynb_checkpoints/com_user_test-checkpoint.txt\n",
      "680K\t./HATT/lightgcn/1101_1108/.ipynb_checkpoints/u_a-checkpoint.txt\n",
      "2.5M\t./HATT/lightgcn/1101_1108/.ipynb_checkpoints\n",
      "680K\t./HATT/lightgcn/1101_1108/u_a.txt\n",
      "40K\t./HATT/lightgcn/1101_1108/c_u_train.txt\n",
      "8.0K\t./HATT/lightgcn/1101_1108/c_u_test.txt\n",
      "1.7M\t./HATT/lightgcn/1101_1108/user_attr.txt\n",
      "5.0M\t./HATT/lightgcn/1101_1108\n",
      "4.0K\t./HATT/lightgcn/session/run.py\n",
      "0\t./HATT/lightgcn/session/__init__.py\n",
      "4.0K\t./HATT/lightgcn/session/__pycache__/run.cpython-36.pyc\n",
      "4.0K\t./HATT/lightgcn/session/__pycache__/__init__.cpython-36.pyc\n",
      "12K\t./HATT/lightgcn/session/__pycache__\n",
      "20K\t./HATT/lightgcn/session\n",
      "44K\t./HATT/lightgcn/lightGCN.ipynb\n",
      "4.0K\t./HATT/lightgcn/codes/dataset.py\n",
      "4.0K\t./HATT/lightgcn/codes/performance.py\n",
      "0\t./HATT/lightgcn/codes/__init__.py\n",
      "4.0K\t./HATT/lightgcn/codes/__pycache__/dataset.cpython-36.pyc\n",
      "4.0K\t./HATT/lightgcn/codes/__pycache__/performance.cpython-36.pyc\n",
      "4.0K\t./HATT/lightgcn/codes/__pycache__/__init__.cpython-36.pyc\n",
      "16K\t./HATT/lightgcn/codes/__pycache__\n",
      "28K\t./HATT/lightgcn/codes\n",
      "4.0K\t./HATT/lightgcn/.ipynb_checkpoints/lightGCN-checkpoint.ipynb\n",
      "8.0K\t./HATT/lightgcn/.ipynb_checkpoints\n",
      "4.0K\t./HATT/lightgcn/data/preprocess.py\n",
      "4.0K\t./HATT/lightgcn/data/.ipynb_checkpoints/preprocess-checkpoint.ipynb\n",
      "4.0K\t./HATT/lightgcn/data/.ipynb_checkpoints/preprocess-checkpoint.py\n",
      "12K\t./HATT/lightgcn/data/.ipynb_checkpoints\n",
      "4.0K\t./HATT/lightgcn/data/preprocess.ipynb\n",
      "24K\t./HATT/lightgcn/data\n",
      "4.0K\t./HATT/lightgcn/graph/.ipynb_checkpoints/graph-checkpoint.py\n",
      "8.0K\t./HATT/lightgcn/graph/.ipynb_checkpoints\n",
      "0\t./HATT/lightgcn/graph/__init__.py\n",
      "4.0K\t./HATT/lightgcn/graph/__pycache__/graph.cpython-36.pyc\n",
      "4.0K\t./HATT/lightgcn/graph/__pycache__/__init__.cpython-36.pyc\n",
      "12K\t./HATT/lightgcn/graph/__pycache__\n",
      "4.0K\t./HATT/lightgcn/graph/graph.py\n",
      "28K\t./HATT/lightgcn/graph\n",
      "4.0K\t./HATT/lightgcn/log/lightgcn.txt\n",
      "0\t./HATT/lightgcn/log/.ipynb_checkpoints/lightgcn-checkpoint.txt\n",
      "4.0K\t./HATT/lightgcn/log/.ipynb_checkpoints\n",
      "12K\t./HATT/lightgcn/log\n",
      "4.0K\t./HATT/lightgcn/main/.ipynb_checkpoints\n",
      "8.0K\t./HATT/lightgcn/main\n",
      "5.2M\t./HATT/lightgcn\n",
      "84K\t./HATT/HATT_1.ipynb\n",
      "36K\t./HATT/1101_1108/com_user_train_edge.pkl\n",
      "8.0K\t./HATT/1101_1108/c_a.txt\n",
      "20K\t./HATT/1101_1108/com_user_list_test.pkl\n",
      "68K\t./HATT/1101_1108/lightgcn/com_user_train.txt\n",
      "8.0K\t./HATT/1101_1108/lightgcn/com_user_test.txt\n",
      "1.7M\t./HATT/1101_1108/lightgcn/user_attr.txt\n",
      "1.8M\t./HATT/1101_1108/lightgcn\n",
      "25M\t./HATT/1101_1108/userinfo_1101_1108.csv\n",
      "44K\t./HATT/1101_1108/c_u.txt\n",
      "924K\t./HATT/1101_1108/user_attr_edge.pkl\n",
      "12K\t./HATT/1101_1108/test_label.pkl\n",
      "1.2M\t./HATT/1101_1108/.ipynb_checkpoints/familyinfo_1101_1108-checkpoint.csv\n",
      "44K\t./HATT/1101_1108/.ipynb_checkpoints/c_u-checkpoint.txt\n",
      "40K\t./HATT/1101_1108/.ipynb_checkpoints/c_u_train-checkpoint.txt\n",
      "25M\t./HATT/1101_1108/.ipynb_checkpoints/userinfo_1101_1108-checkpoint.csv\n",
      "968K\t./HATT/1101_1108/.ipynb_checkpoints/u_a-checkpoint.txt\n",
      "8.0K\t./HATT/1101_1108/.ipynb_checkpoints/c_a-checkpoint.txt\n",
      "8.0K\t./HATT/1101_1108/.ipynb_checkpoints/c_u_test-checkpoint.txt\n",
      "27M\t./HATT/1101_1108/.ipynb_checkpoints\n",
      "1.2M\t./HATT/1101_1108/com_user_list_train.pkl\n",
      "680K\t./HATT/1101_1108/u_a.txt\n",
      "280K\t./HATT/1101_1108/com_user.pkl\n",
      "752K\t./HATT/1101_1108/train_label.pkl\n",
      "40K\t./HATT/1101_1108/c_u_train.txt\n",
      "564K\t./HATT/1101_1108/user_attr_edge_sample.pkl\n",
      "40K\t./HATT/1101_1108/com_user_train.pkl\n",
      "1.2M\t./HATT/1101_1108/familyinfo_1101_1108.csv\n",
      "8.0K\t./HATT/1101_1108/c_u_test.txt\n",
      "0\t./HATT/1101_1108/attr_user_edge.pkl\n",
      "496K\t./HATT/1101_1108/user_attr_edge_sample_1.pkl\n",
      "656K\t./HATT/1101_1108/user_attr.pkl\n",
      "32K\t./HATT/1101_1108/attr_user_edge_ori.pkl\n",
      "20K\t./HATT/1101_1108/com_user_test.pkl\n",
      "60M\t./HATT/1101_1108\n",
      "168K\t./HATT/lightGCN.ipynb\n",
      "4.0K\t./HATT/config3.py\n",
      "244K\t./HATT/datapro2.ipynb\n",
      "4.0K\t./HATT/test.py\n",
      "156K\t./HATT/HATT_4-Copy1.ipynb\n",
      "132K\t./HATT/.ipynb_checkpoints/lightGCN-checkpoint.ipynb\n",
      "168K\t./HATT/.ipynb_checkpoints/GCN_average-checkpoint.ipynb\n",
      "60K\t./HATT/.ipynb_checkpoints/HATT_3-checkpoint.ipynb\n",
      "4.0K\t./HATT/.ipynb_checkpoints/config2-checkpoint.py\n",
      "4.0K\t./HATT/.ipynb_checkpoints/train-checkpoint.py\n",
      "4.0K\t./HATT/.ipynb_checkpoints/config3-checkpoint.py\n",
      "12K\t./HATT/.ipynb_checkpoints/data-checkpoint.py\n",
      "168K\t./HATT/.ipynb_checkpoints/SGL-checkpoint.ipynb\n",
      "4.0K\t./HATT/.ipynb_checkpoints/average-checkpoint.ipynb\n",
      "232K\t./HATT/.ipynb_checkpoints/datapro2-checkpoint.ipynb\n",
      "16K\t./HATT/.ipynb_checkpoints/para2-checkpoint.pdf\n",
      "16K\t./HATT/.ipynb_checkpoints/para-checkpoint.pdf\n",
      "12K\t./HATT/.ipynb_checkpoints/model-checkpoint.py\n",
      "4.0K\t./HATT/.ipynb_checkpoints/debug-checkpoint.ipynb\n",
      "4.0K\t./HATT/.ipynb_checkpoints/HyperGAT-checkpoint.ipynb\n",
      "48K\t./HATT/.ipynb_checkpoints/HATT_5-checkpoint.ipynb\n",
      "60K\t./HATT/.ipynb_checkpoints/HATT_2-checkpoint.ipynb\n",
      "4.0K\t./HATT/.ipynb_checkpoints/config-checkpoint.py\n",
      "228K\t./HATT/.ipynb_checkpoints/GCN-checkpoint.ipynb\n",
      "64K\t./HATT/.ipynb_checkpoints/HATT_4-Copy3-checkpoint.ipynb\n",
      "4.0K\t./HATT/.ipynb_checkpoints/datapro-checkpoint.ipynb\n",
      "280K\t./HATT/.ipynb_checkpoints/HATT_4-Copy1-checkpoint.ipynb\n",
      "4.0K\t./HATT/.ipynb_checkpoints/test-checkpoint.py\n",
      "152K\t./HATT/.ipynb_checkpoints/HATT_1-checkpoint.ipynb\n",
      "60K\t./HATT/.ipynb_checkpoints/HATT_4-checkpoint.ipynb\n",
      "4.0K\t./HATT/.ipynb_checkpoints/loss-checkpoint.py\n",
      "64K\t./HATT/.ipynb_checkpoints/hyperparameter_figure-checkpoint.ipynb\n",
      "164K\t./HATT/.ipynb_checkpoints/lightGCN-average-checkpoint.ipynb\n",
      "2.0M\t./HATT/.ipynb_checkpoints\n",
      "244K\t./HATT/datapro.ipynb\n",
      "84K\t./HATT/hyperparameter_figure.ipynb\n",
      "4.0K\t./HATT/config2.py\n",
      "4.0K\t./HATT/loss.py\n",
      "228K\t./HATT/GCN.ipynb\n",
      "16K\t./HATT/para.pdf\n",
      "124K\t./HATT/lightGCN-average.ipynb\n",
      "168K\t./HATT/SGL.ipynb\n",
      "4.0K\t./HATT/train.py\n",
      "140K\t./HATT/HATT_5.ipynb\n",
      "20K\t./HATT/figure/.ipynb_checkpoints/para-checkpoint.pdf\n",
      "12K\t./HATT/figure/.ipynb_checkpoints/sparse-checkpoint.pdf\n",
      "36K\t./HATT/figure/.ipynb_checkpoints\n",
      "12K\t./HATT/figure/para.pdf\n",
      "16K\t./HATT/figure/sparse.pdf\n",
      "68K\t./HATT/figure\n",
      "324K\t./HATT/HATT_4-Copy3.ipynb\n",
      "156K\t./HATT/debug.ipynb\n",
      "12K\t./HATT/model.py\n",
      "8.0K\t./HATT/__pycache__/data.cpython-36.pyc\n",
      "4.0K\t./HATT/__pycache__/config.cpython-36.pyc\n",
      "8.0K\t./HATT/__pycache__/model.cpython-36.pyc\n",
      "4.0K\t./HATT/__pycache__/config3.cpython-36.pyc\n",
      "4.0K\t./HATT/__pycache__/config2.cpython-36.pyc\n",
      "32K\t./HATT/__pycache__\n",
      "64K\t./HATT/HATT_2.ipynb\n",
      "84K\t./HATT/HATT_4.ipynb\n",
      "16K\t./HATT/HyperGAT.ipynb\n",
      "4.0K\t./HATT/config.py\n",
      "80K\t./HATT/HATT_3.ipynb\n",
      "70M\t./HATT\n",
      "8.0K\t./noah_tf_util.py\n",
      "4.0K\t./README.md\n",
      "4.0K\t./.ipynb_checkpoints/environment-checkpoint.ipynb\n",
      "4.0K\t./.ipynb_checkpoints/README-checkpoint.md\n",
      "8.0K\t./.ipynb_checkpoints/noah_tf_util-checkpoint.py\n",
      "4.0K\t./.ipynb_checkpoints/derby-checkpoint.log\n",
      "24K\t./.ipynb_checkpoints\n",
      "52K\t./environment.ipynb\n",
      "89M\t.\n"
     ]
    }
   ],
   "source": [
    "!du -ah"
   ]
  },
  {
   "cell_type": "code",
   "execution_count": null,
   "id": "ba97eb86-6eb6-4ce6-9881-7d71a3ccc3e4",
   "metadata": {},
   "outputs": [],
   "source": []
  }
 ],
 "metadata": {
  "kernelspec": {
   "display_name": "Python 3",
   "language": "python",
   "name": "python3"
  },
  "language_info": {
   "codemirror_mode": {
    "name": "ipython",
    "version": 3
   },
   "file_extension": ".py",
   "mimetype": "text/x-python",
   "name": "python",
   "nbconvert_exporter": "python",
   "pygments_lexer": "ipython3",
   "version": "3.6.9"
  }
 },
 "nbformat": 4,
 "nbformat_minor": 5
}
