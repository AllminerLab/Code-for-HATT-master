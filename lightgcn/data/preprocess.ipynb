{
 "cells": [
  {
   "cell_type": "code",
   "execution_count": 1,
   "id": "5b93b175-2528-4b81-af49-acc4e0858679",
   "metadata": {},
   "outputs": [],
   "source": [
    "import os\n",
    "import pickle\n",
    "import numpy as np\n",
    "\n",
    "\n",
    "def read_raw(path):\n",
    "    with open(path) as f:\n",
    "        User, Item, User2Item = [], [], {}\n",
    "        for l in f.readlines():\n",
    "            if len(l) > 0:\n",
    "                l = l.strip('\\n').split(' ')\n",
    "                uid = int(l[0])\n",
    "                try:\n",
    "                    items = [int(i) for i in l[1:]]\n",
    "                except BaseException as e:\n",
    "                    print(uid, e)\n",
    "                    continue\n",
    "                else:\n",
    "                    User2Item[uid] = items\n",
    "                    User.extend([uid] * len(items))\n",
    "                    Item.extend(items)\n",
    "    return np.array(User), np.array(Item), User2Item\n"
   ]
  },
  {
   "cell_type": "code",
   "execution_count": 4,
   "id": "7ad714d9-4c7b-46d0-9090-0d3bcdf06d50",
   "metadata": {},
   "outputs": [],
   "source": [
    "if __name__ == '__main__':\n",
    "    root = 'raw'\n",
    "    dataset_name = 'gowalla'\n",
    "    #dataset_name = 'amazon-book'\n",
    "    \n",
    "    train_path = os.path.join(dataset_name, root, 'train.txt')\n",
    "    test_path = os.path.join(dataset_name, root, 'test.txt')\n",
    "    train_U, train_I, train_U2I = read_raw(train_path)\n",
    "    test_U, test_I, test_U2I = read_raw(test_path)\n",
    "    num_user = len(np.unique(np.concatenate([train_U, test_U])))\n",
    "    num_item = len(np.unique(np.concatenate([train_I, test_I])))\n",
    "\n",
    "    train_set = np.vstack([train_U, train_I]).T.tolist()\n",
    "\n",
    "    with open(dataset_name + '/processed/preprocess.pkl', 'wb') as f:\n",
    "        pickle.dump(train_set, f, pickle.HIGHEST_PROTOCOL)\n",
    "        pickle.dump(train_U2I, f, pickle.HIGHEST_PROTOCOL)\n",
    "        pickle.dump(test_U2I, f, pickle.HIGHEST_PROTOCOL)\n",
    "        pickle.dump([num_user, num_item], f, pickle.HIGHEST_PROTOCOL)\n"
   ]
  },
  {
   "cell_type": "code",
   "execution_count": null,
   "id": "e08dac5a-f5f8-4a01-adf7-45a02b06a7a4",
   "metadata": {},
   "outputs": [],
   "source": []
  }
 ],
 "metadata": {
  "kernelspec": {
   "display_name": "Python 3",
   "language": "python",
   "name": "python3"
  },
  "language_info": {
   "codemirror_mode": {
    "name": "ipython",
    "version": 3
   },
   "file_extension": ".py",
   "mimetype": "text/x-python",
   "name": "python",
   "nbconvert_exporter": "python",
   "pygments_lexer": "ipython3",
   "version": "3.6.9"
  }
 },
 "nbformat": 4,
 "nbformat_minor": 5
}
